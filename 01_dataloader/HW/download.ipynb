{
 "cells": [
  {
   "cell_type": "code",
   "execution_count": 1,
   "metadata": {},
   "outputs": [
    {
     "name": "stdout",
     "output_type": "stream",
     "text": [
      "--2021-02-06 08:02:26--  http://yaroslavvb.com/upload/notMNIST/notMNIST_large.tar.gz\n",
      "Resolving yaroslavvb.com (yaroslavvb.com)... 129.121.4.193\n",
      "Connecting to yaroslavvb.com (yaroslavvb.com)|129.121.4.193|:80... connected.\n",
      "HTTP request sent, awaiting response...200 OK\n",
      "Length: 247336696 (236M) [application/x-gzip]\n",
      "Saving to: ‘notMNIST_large.tar.gz’\n",
      "\n",
      "notMNIST_large.tar. 100%[===================>] 235.88M  37.4MB/s    in 6.5s    \n",
      "\n",
      "2021-02-06 08:02:33 (36.4 MB/s) - ‘notMNIST_large.tar.gz’ saved [247336696/247336696]\n",
      "\n"
     ]
    }
   ],
   "source": [
    "!wget http://yaroslavvb.com/upload/notMNIST/notMNIST_small.tar.gz"
   ]
  },
  {
   "cell_type": "code",
   "execution_count": 2,
   "metadata": {},
   "outputs": [],
   "source": [
    "!gunzip notMNIST_small.tar.gz"
   ]
  },
  {
   "cell_type": "code",
   "execution_count": null,
   "metadata": {},
   "outputs": [],
   "source": [
    "!tar -xvf notMNIST_small.tar"
   ]
  },
  {
   "cell_type": "code",
   "execution_count": 91,
   "metadata": {},
   "outputs": [
    {
     "name": "stdout",
     "output_type": "stream",
     "text": [
      "total number of data : 18726\n"
     ]
    },
    {
     "data": {
      "image/png": "[encoded data removed]",
      "image/svg+xml": "<?xml version=\"1.0\" encoding=\"utf-8\" standalone=\"no\"?>\n<!DOCTYPE svg PUBLIC \"-//W3C//DTD SVG 1.1//EN\"\n  \"http://www.w3.org/Graphics/SVG/1.1/DTD/svg11.dtd\">\n<!-- Created with matplotlib (https://matplotlib.org/) -->\n<svg height=\"246.958125pt\" version=\"1.1\" viewBox=\"0 0 231.84 246.958125\" width=\"231.84pt\" xmlns=\"http://www.w3.org/2000/svg\" xmlns:xlink=\"http://www.w3.org/1999/xlink\">\n <defs>\n  <style type=\"text/css\">\n*{stroke-linecap:butt;stroke-linejoin:round;}\n  </style>\n </defs>\n <g id=\"figure_1\">\n  <g id=\"patch_1\">\n   <path d=\"M 0 246.958125 \nL 231.84 246.958125 \nL 231.84 0 \nL 0 0 \nz\n\" style=\"fill:none;\"/>\n  </g>\n  <g id=\"axes_1\">\n   <g clip-path=\"url(#pfdfc01e082)\">\n    <image height=\"218\" id=\"imagee844a63bb6\" transform=\"scale(1 -1)translate(0 -218)\" width=\"218\" x=\"7.2\" xlink:href=\"data:image/png;base64,\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\" y=\"-21.758125\"/>\n   </g>\n   <g id=\"text_1\">\n    <!-- G -->\n    <defs>\n     <path d=\"M 59.515625 10.40625 \nL 59.515625 29.984375 \nL 43.40625 29.984375 \nL 43.40625 38.09375 \nL 69.28125 38.09375 \nL 69.28125 6.78125 \nQ 63.578125 2.734375 56.6875 0.65625 \nQ 49.8125 -1.421875 42 -1.421875 \nQ 24.90625 -1.421875 15.25 8.5625 \nQ 5.609375 18.5625 5.609375 36.375 \nQ 5.609375 54.25 15.25 64.234375 \nQ 24.90625 74.21875 42 74.21875 \nQ 49.125 74.21875 55.546875 72.453125 \nQ 61.96875 70.703125 67.390625 67.28125 \nL 67.390625 56.78125 \nQ 61.921875 61.421875 55.765625 63.765625 \nQ 49.609375 66.109375 42.828125 66.109375 \nQ 29.4375 66.109375 22.71875 58.640625 \nQ 16.015625 51.171875 16.015625 36.375 \nQ 16.015625 21.625 22.71875 14.15625 \nQ 29.4375 6.6875 42.828125 6.6875 \nQ 48.046875 6.6875 52.140625 7.59375 \nQ 56.25 8.5 59.515625 10.40625 \nz\n\" id=\"DejaVuSans-71\"/>\n    </defs>\n    <g transform=\"translate(111.270938 16.318125)scale(0.12 -0.12)\">\n     <use xlink:href=\"#DejaVuSans-71\"/>\n    </g>\n   </g>\n  </g>\n </g>\n <defs>\n  <clipPath id=\"pfdfc01e082\">\n   <rect height=\"217.44\" width=\"217.44\" x=\"7.2\" y=\"22.318125\"/>\n  </clipPath>\n </defs>\n</svg>\n",
      "text/plain": "<Figure size 432x288 with 1 Axes>"
     },
     "metadata": {
      "needs_background": "light",
      "transient": {}
     },
     "output_type": "display_data"
    },
    {
     "data": {
      "image/png": "[encoded data removed]",
      "image/svg+xml": "<?xml version=\"1.0\" encoding=\"utf-8\" standalone=\"no\"?>\n<!DOCTYPE svg PUBLIC \"-//W3C//DTD SVG 1.1//EN\"\n  \"http://www.w3.org/Graphics/SVG/1.1/DTD/svg11.dtd\">\n<!-- Created with matplotlib (https://matplotlib.org/) -->\n<svg height=\"246.958125pt\" version=\"1.1\" viewBox=\"0 0 231.84 246.958125\" width=\"231.84pt\" xmlns=\"http://www.w3.org/2000/svg\" xmlns:xlink=\"http://www.w3.org/1999/xlink\">\n <defs>\n  <style type=\"text/css\">\n*{stroke-linecap:butt;stroke-linejoin:round;}\n  </style>\n </defs>\n <g id=\"figure_1\">\n  <g id=\"patch_1\">\n   <path d=\"M 0 246.958125 \nL 231.84 246.958125 \nL 231.84 0 \nL 0 0 \nz\n\" style=\"fill:none;\"/>\n  </g>\n  <g id=\"axes_1\">\n   <g clip-path=\"url(#pbeb4ecdedb)\">\n    <image height=\"218\" id=\"imagef6fd26d565\" transform=\"scale(1 -1)translate(0 -218)\" width=\"218\" x=\"7.2\" xlink:href=\"data:image/png;base64,\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\" y=\"-21.758125\"/>\n   </g>\n   <g id=\"text_1\">\n    <!-- E -->\n    <defs>\n     <path d=\"M 9.8125 72.90625 \nL 55.90625 72.90625 \nL 55.90625 64.59375 \nL 19.671875 64.59375 \nL 19.671875 43.015625 \nL 54.390625 43.015625 \nL 54.390625 34.71875 \nL 19.671875 34.71875 \nL 19.671875 8.296875 \nL 56.78125 8.296875 \nL 56.78125 0 \nL 9.8125 0 \nz\n\" id=\"DejaVuSans-69\"/>\n    </defs>\n    <g transform=\"translate(112.12875 16.318125)scale(0.12 -0.12)\">\n     <use xlink:href=\"#DejaVuSans-69\"/>\n    </g>\n   </g>\n  </g>\n </g>\n <defs>\n  <clipPath id=\"pbeb4ecdedb\">\n   <rect height=\"217.44\" width=\"217.44\" x=\"7.2\" y=\"22.318125\"/>\n  </clipPath>\n </defs>\n</svg>\n",
      "text/plain": "<Figure size 432x288 with 1 Axes>"
     },
     "metadata": {
      "needs_background": "light",
      "transient": {}
     },
     "output_type": "display_data"
    }
   ],
   "source": [
    "import os\n",
    "import glob\n",
    "from PIL import Image\n",
    "import torch \n",
    "from torch.utils.data import Dataset, DataLoader \n",
    "import torchvision.transforms as transforms\n",
    "import numpy as np\n",
    "import pandas as pd \n",
    "import matplotlib.pyplot as plt\n",
    "\n",
    "class NotMNIST_Dataset(Dataset):\n",
    "    def __init__(self, root_dir, transform=None):\n",
    "        self.root_dir = root_dir \n",
    "        self.transform = transform\n",
    "        self.annotations = self._get_annotations()\n",
    "        self.label = {\"A\": 0, \"B\": 1, \"C\": 2, \"D\": 3, \"E\": 4, \"F\": 5, \"G\": 6,\n",
    "                \"H\": 7, \"I\": 8, \"J\": 9}\n",
    "\n",
    "    def __len__(self):\n",
    "        return len(self.annotations) \n",
    "\n",
    "    def __getitem__(self, index):\n",
    "        image_path = os.path.join(self.root_dir, self.annotations.iloc[index, 1], self.annotations.iloc[index, 0])\n",
    "        image = Image.open(image_path)\n",
    "        target = torch.tensor(int(self.label[self.annotations.iloc[index, 1]]))\n",
    "\n",
    "        if self.transform:\n",
    "            image = self.transform(image)\n",
    "        return image, target\n",
    "\n",
    "    def _get_annotations(self):\n",
    "        df = pd.DataFrame()\n",
    "        for target in os.listdir(self.root_dir):\n",
    "            image_list = glob.glob(os.path.join(self.root_dir, target, '*.png'))\n",
    "            df = df.append([[os.path.basename(i), os.path.dirname(i)[-1]] for i in image_list])\n",
    "        return df\n",
    "\n",
    "notmnist_dataset = NotMNIST_Dataset(root_dir='/content/drive/MyDrive/pytorch_tutorial/pytorch_tutorial/01_dataloader/HW/notMNIST_small',\n",
    "                                   transform=transforms.ToTensor())\n",
    "# print(notmnist_dataset[12])\n",
    "# img_array = transforms.ToPILImage()(notmnist_dataset[0][0])\n",
    "\n",
    "dataloader = DataLoader(notmnist_dataset, batch_size=4, shuffle=True, num_workers=4)\n",
    "label_reverse = {v:k for k,v in notmnist_dataset.label.items()}\n",
    "print(f'total number of data : {len(notmnist_dataset)}')\n",
    "\n",
    "for i, (images, targets) in enumerate(dataloader):\n",
    "    img = images[0].numpy()\n",
    "    \n",
    "    plt.imshow(img.reshape((28,28)))#np.transpose(img, (1,2,0)))\n",
    "    plt.title(label_reverse[int(targets[0])])\n",
    "    plt.axis('off')\n",
    "    plt.show()\n",
    "\n",
    "    if i == 1:\n",
    "        break"
   ]
  },
  {
   "cell_type": "code",
   "execution_count": null,
   "metadata": {},
   "outputs": [],
   "source": []
  }
 ],
 "metadata": {
  "kernelspec": {
   "display_name": "Python 3.6.9 64-bit",
   "metadata": {
    "interpreter": {
     "hash": "31f2aee4e71d21fbe5cf8b01ff0e069b9275f58929596ceb00d14d90e3e16cd6"
    }
   },
   "name": "python3"
  },
  "language_info": {
   "codemirror_mode": {
    "name": "ipython",
    "version": 3
   },
   "file_extension": ".py",
   "mimetype": "text/x-python",
   "name": "python",
   "nbconvert_exporter": "python",
   "pygments_lexer": "ipython3",
   "version": "3.6.9"
  },
  "orig_nbformat": 2
 },
 "nbformat": 4,
 "nbformat_minor": 2
}